{
  "cells": [
    {
      "cell_type": "markdown",
      "metadata": {
        "id": "F1VMm8BPr5kn"
      },
      "source": [
        "## PySpark Setup -- *Do Not Modify!*\n",
        "**Do not change this.** Extract Spark/Hadoop and install PyPython dependencies"
      ]
    },
    {
      "cell_type": "code",
      "execution_count": 23,
      "metadata": {
        "colab": {
          "base_uri": "https://localhost:8080/"
        },
        "id": "R5EMXbcPo_6w",
        "outputId": "2f4622cd-10fd-4513-f7b0-c1cc370c65b4"
      },
      "outputs": [
        {
          "output_type": "stream",
          "name": "stdout",
          "text": [
            "Drive already mounted at /content/drive; to attempt to forcibly remount, call drive.mount(\"/content/drive\", force_remount=True).\n"
          ]
        }
      ],
      "source": [
        "#######################################\n",
        "###!@0 START INIT ENVIRONMENT\n",
        "from google.colab import drive\n",
        "drive.mount('/content/drive')\n",
        "!apt-get install openjdk-8-jdk-headless -qq > /dev/null\n",
        "!tar xf /content/drive/MyDrive/spark-3.0.3-bin-hadoop2.7.tgz\n",
        "\n",
        "!pip install -q findspark\n",
        "import os\n",
        "os.environ[\"JAVA_HOME\"] = \"/usr/lib/jvm/java-8-openjdk-amd64\"\n",
        "os.environ[\"SPARK_HOME\"] = \"/content/spark-3.0.3-bin-hadoop2.7\"\n",
        "\n",
        "###!@0 END INIT ENVIRONMENT"
      ]
    },
    {
      "cell_type": "markdown",
      "metadata": {
        "id": "LVH61auFby95"
      },
      "source": [
        "## Create a Spark Session & Load Data -- *Do Not Modify!*\n",
        "\n",
        "**Do not change this.** Standard initialization for the Spark session within colab."
      ]
    },
    {
      "cell_type": "code",
      "execution_count": 24,
      "metadata": {
        "colab": {
          "base_uri": "https://localhost:8080/",
          "height": 219
        },
        "id": "rvALq7zOb5kw",
        "outputId": "7e690c40-79c3-41a7-e75d-57641d3f52c3"
      },
      "outputs": [
        {
          "output_type": "execute_result",
          "data": {
            "text/plain": [
              "<pyspark.sql.session.SparkSession at 0x7fd033986370>"
            ],
            "text/html": [
              "\n",
              "            <div>\n",
              "                <p><b>SparkSession - in-memory</b></p>\n",
              "                \n",
              "        <div>\n",
              "            <p><b>SparkContext</b></p>\n",
              "\n",
              "            <p><a href=\"http://f8531719495d:4050\">Spark UI</a></p>\n",
              "\n",
              "            <dl>\n",
              "              <dt>Version</dt>\n",
              "                <dd><code>v3.0.3</code></dd>\n",
              "              <dt>Master</dt>\n",
              "                <dd><code>local</code></dd>\n",
              "              <dt>AppName</dt>\n",
              "                <dd><code>Colab</code></dd>\n",
              "            </dl>\n",
              "        </div>\n",
              "        \n",
              "            </div>\n",
              "        "
            ]
          },
          "metadata": {},
          "execution_count": 24
        }
      ],
      "source": [
        "#######################################\n",
        "###!@1 START OF PYSPARK INIT\n",
        "# Provides findspark.init() to make pyspark importable as a regular library.\n",
        "# Resource : https://pypi.org/project/findspark/\n",
        "import findspark\n",
        "\n",
        "findspark.init()\n",
        "findspark.find()\n",
        "\n",
        "from pyspark import SparkContext, SparkConf\n",
        "from pyspark.sql import SparkSession\n",
        "spark = SparkSession.builder\\\n",
        "         .master(\"local\")\\\n",
        "         .appName(\"Colab\")\\\n",
        "         .config('spark.ui.port', '4050')\\\n",
        "         .getOrCreate()\n",
        "spark\n",
        "# Spark is ready to go within Colab!\n",
        "###!@1 END OF PYSPARK INIT"
      ]
    },
    {
      "cell_type": "markdown",
      "metadata": {
        "id": "W2JW0DbAiqtq"
      },
      "source": [
        "## **Common Imports**"
      ]
    },
    {
      "cell_type": "code",
      "execution_count": 25,
      "metadata": {
        "id": "T7ondPTQh-rd"
      },
      "outputs": [],
      "source": [
        "from __future__ import print_function \n",
        "from pyspark.context import SparkContext\n",
        "from pyspark.ml.feature import VectorAssembler\n",
        "from pyspark.ml.classification import RandomForestClassifier, LogisticRegression, DecisionTreeClassifier\n",
        "from pyspark.sql.session import SparkSession\n",
        "from pyspark.ml import Pipeline\n",
        "from pyspark.ml.feature import StringIndexer, IndexToString\n",
        "from pyspark.ml.evaluation import MulticlassClassificationEvaluator\n",
        "from pyspark.sql.types import IntegerType, DoubleType\n",
        "import pyspark.sql.functions as f\n",
        "from pyspark.sql.functions import udf,split\n",
        "from collections import Counter\n",
        "import numpy as np\n",
        "import datetime "
      ]
    },
    {
      "cell_type": "markdown",
      "metadata": {
        "id": "jNUmHO4TYOLQ"
      },
      "source": [
        "### **Reading the cleaned CSV file**"
      ]
    },
    {
      "cell_type": "code",
      "execution_count": 29,
      "metadata": {
        "colab": {
          "base_uri": "https://localhost:8080/"
        },
        "id": "j201mWMuhvWT",
        "outputId": "248f6c3e-b3aa-4239-d9ad-9520b3099cb7"
      },
      "outputs": [
        {
          "output_type": "stream",
          "name": "stdout",
          "text": [
            "+--------------+--------------+--------+------------------+----------+----------+-----------------+------------+--------------+------------+------------+------------+-----------------------+------------------+---------------+-----------+--------------+------------+--------------+----------------+---------------------------------+------------+--------------------+-------------------+-----------+------------+----------------------+--------------------+------------------+-------------+------------+--------------+-------------------+-------------------+---------------------+-----------+\n",
            "|Violation_Code|Summons_Number|Plate_ID|Registration_State|Plate_Type|Issue_Date|Vehicle_Body_Type|Vehicle_Make|Issuing_Agency|Street_Code1|Street_Code2|Street_Code3|Vehicle_Expiration_Date|Violation_Location|Issuer_Precinct|Issuer_Code|Issuer_Command|Issuer_Squad|Violation_Time|Violation_County|Violation_In_Front_Of_Or_Opposite|House_Number|         Street_Name|Date_First_Observed|Law_Section|Sub_Division|Days_Parking_In_Effect|From_Hours_In_Effect|To_Hours_In_Effect|Vehicle_Color|Vehicle_Year|Feet_From_Curb|Violation_Post_Code|    Issue_Date_Time|Violation_Description|Fine_Amount|\n",
            "+--------------+--------------+--------+------------------+----------+----------+-----------------+------------+--------------+------------+------------+------------+-----------------------+------------------+---------------+-----------+--------------+------------+--------------+----------------+---------------------------------+------------+--------------------+-------------------+-----------+------------+----------------------+--------------------+------------------+-------------+------------+--------------+-------------------+-------------------+---------------------+-----------+\n",
            "|            14|    1475371470| 12243MG|                NY|       COM|06/24/2000|              VAN|       FRUEH|             P|       34770|       13610|       10810|                      0|              14.0|            401|     957319|          0401|        0000|         1055A|       Manhattan|                                F|         250|             W 50 ST|                  0|        408|           C|               YYYYYYY|               0700A|             1200A|          BRO|        2015|             0|               null|2000-06-24 10:55:00| NO STANDING-DAY/T...|        115|\n",
            "|            46|    1477388163| JLK6354|                NY|       PAS|06/29/2000|             SUBN|       CHEVR|             S|       72220|       30620|       53920|               20211009|              43.0|              0|     596621|          BXB0|        0000|         0936A|           Bronx|                                F|        1244|     VIRGINIA AVENUE|                  0|        408|          D1|               BBBBBBB|                 ALL|               ALL|        BLACK|        2012|             0|               null|2000-06-29 09:36:00|       DOUBLE PARKING|        115|\n",
            "|            21|    1477155041| HND9458|                NY|       PAS|07/02/2000|             SUBN|       HONDA|             S|       74230|       37930|       37980|               20201212|              67.0|              0|     556771|          KN17|        0000|         0846A|        Brooklyn|                                F|         998|          RUTLAND RD|                  0|        408|          D1|               YYYYYYB|               0830A|             0900A|         GRAY|        2016|             0|               null|2000-07-02 08:46:00| NO PARKING-STREET...|         65|\n",
            "|            21|    1477178089| KRK6736|                PA|       PAS|07/02/2000|             SUBN|       DODGE|             S|       53230|       56630|       64530|                      0|              75.0|              0|     686983|          KN05|        0000|         1135A|        Brooklyn|                                F|         608|           JEROME ST|                  0|        408|          D1|               YBBYBBB|               1100A|             1230P|        BLACK|           0|             0|               null|2000-07-02 11:35:00| NO PARKING-STREET...|         65|\n",
            "|            40|    1472331370| 72601MM|                NY|       PAS|07/13/2000|              P-U|       DODGE|             P|       18390|        7990|        8190|               20210228|             115.0|            115|     966814|          0115|        0000|         0647A|          Queens|                                F|       31-38|           91 STREET|                  0|        408|          K6|               BBBBBBB|                 ALL|               ALL|           WH|        2019|             0|               null|2000-07-13 06:47:00|         FIRE HYDRANT|        115|\n",
            "|            21|    1477458451| 674738R|                NJ|       PAS|07/23/2000|              SDN|       HONDA|             S|       70720|       27300|       29220|               20200728|              46.0|              0|     637102|          BX04|        0000|         0807A|           Bronx|                                F|        2467|       VALENTINE AVE|                  0|        408|          D1|               YYYYYYB|               0800A|             0830A|         GRAY|           0|             0|               null|2000-07-23 08:07:00| NO PARKING-STREET...|         65|\n",
            "|            21|    1478212974| LDN6447|                PA|       PAS|07/23/2000|               OV|       DODGE|             S|       49820|       47520|       57720|                      0|              49.0|              0|     527650|          BX11|        0000|         0841A|           Bronx|                                F|        2165|     MATTHEWS AVENUE|                  0|        408|          D1|               YBBYBBB|               0830A|             1000A|          BLK|           0|             0|               null|2000-07-23 08:41:00| NO PARKING-STREET...|         65|\n",
            "|            21|    1477176020|  A36LML|                NJ|       PAS|07/23/2000|              SDN|       LEXUS|             S|       30430|       59830|       50030|                      0|              75.0|              0|     584011|          KN05|        0000|         0858A|        Brooklyn|                                F|         390|         CRESCENT ST|                  0|        408|          D1|               BBBYBBB|               0800A|             0930A|         SILV|           0|             0|               null|2000-07-23 08:58:00| NO PARKING-STREET...|         65|\n",
            "|            21|    1477424260| JPR5376|                NY|       PAS|07/24/2000|             SUBN|       TOYOT|             S|       29120|        8920|       62720|               20220310|              46.0|              0|     624954|          BX05|        0000|         0838A|           Bronx|                                F|         260|      E BURNSIDE AVE|                  0|        408|          D1|               YYYYYYB|               0830A|             0900A|        BLACK|        2020|             0|               null|2000-07-24 08:38:00| NO PARKING-STREET...|         65|\n",
            "|            21|    1478175564|  QKV989|                SC|       PAS|08/04/2000|              SDN|       NISSA|             S|       18520|       15920|       19120|                      0|              43.0|              0|     587594|          BX09|        0000|         0805A|           Bronx|                                F|        1026|     CASTLE HILL AVE|                  0|        408|          D1|               YYYYYYB|               0800A|             0830A|           BK|           0|             0|               null|2000-08-04 08:05:00| NO PARKING-STREET...|         65|\n",
            "|            19|    1477659717|1X14877A|              None|       PAS|08/23/2000|             ANCC|        FORD|             P|           0|           0|           0|               20201188|              75.0|            883|     357349|          0883|        0000|         0841A|        Brooklyn|                             null|        null|    E/B ATLANTIC AVE|                  0|        408|           C|               BBBBBBB|                 ALL|               ALL|           GY|           0|             0|               null|2000-08-23 08:41:00| NO STANDING-BUS STOP|        115|\n",
            "|            46|    1474061783| 681368R|                NJ|       PAS|07/27/2007|              SDN|         BMW|             P|       70220|       74370|       10655|               20200813|              49.0|             49|     966049|          0049|        0000|         0350A|       Manhattan|                                O|        1434|      UNDERCLIFF AVE|                  0|        408|          F1|               BBBBBBB|                 ALL|               ALL|          GRY|           0|             0|               null|2007-07-27 03:50:00|       DOUBLE PARKING|        115|\n",
            "|            17|    1476242227| JPY6349|                NY|       PAS|06/09/2010|              SDN|       LEXUS|             P|       81330|       20530|       64330|               20220204|              84.0|            868|     960526|          0868|        0000|         0817A|        Brooklyn|                                F|         388|            STATE ST|                  0|        408|           C|               YYYYYBB|               0700A|             0700P|         GRAY|        2006|             0|               null|2010-06-09 08:17:00| NO STANDING-EXC. ...|         95|\n",
            "|            20|    1462149601| RHE4850|              None|       PAS|06/20/2010|              SDN|       ME/BE|             K|           0|           0|           0|               20210106|             110.0|              3|     160699|          0003|        0000|         0527A|          Queens|                                O|        null|    FMCP MEADOW LAKE|                  0|        408|           D|               BBBBBBB|                 ALL|               ALL|        BLACK|        2010|             0|               null|2010-06-20 05:27:00| NO PARKING-DAY/TI...|         65|\n",
            "|            21|    1477434835| JDP9350|                NY|       PAS|07/23/2010|             SUBN|       ACURA|             S|       70720|       29220|       27420|               20200919|              52.0|              0|     582825|          BX07|        0000|         0807A|           Bronx|                                F|        2510|    VALENTINE AVENUE|                  0|        408|          D1|               YYYYYYB|               0800A|             0830A|          RED|        2019|             0|               null|2010-07-23 08:07:00| NO PARKING-STREET...|         65|\n",
            "|            21|    1475703193| 29578MN|                NY|       COM|07/25/2010|             DELV|       FRUEH|             S|       51090|       26540|       65830|               20201031|             105.0|              0|     597627|          QE13|        0000|         0805A|          Queens|                                O|      214-55|         JAMAICA AVE|                  0|        408|          D1|               YYYYYYB|               0800A|             0830A|        WHITE|        2010|             0|               null|2010-07-25 08:05:00| NO PARKING-STREET...|         65|\n",
            "|            21|    1477965026| LCS6975|                PA|       PAS|08/05/2010|             null|       HYUND|             S|       42630|       17380|       10030|                      0|              68.0|              0|     610139|          KS10|        0000|         0746A|        Brooklyn|                                F|        6904|    FT HAMILTON PKWY|                  0|        408|          D1|               YYYYYYB|               0730A|             0800A|         BLUE|           0|             0|               null|2010-08-05 07:46:00| NO PARKING-STREET...|         65|\n",
            "|            14|    1478594573|T761029C|                NY|       OMT|08/11/2010|              SDN|       TOYOT|             S|       71550|       11535|       32600|               20210131|              68.0|              0|     669771|          KS10|        0000|         0110A|        Brooklyn|                                O|         800|          POLY PLACE|                  0|        408|           C|               BBBBBBB|               1200A|             0600A|          WHT|           0|             0|               null|2010-08-11 01:10:00| NO STANDING-DAY/T...|        115|\n",
            "|            78|    1475688209| ZNL4742|                PA|       PAS|06/30/2011|             TRUC|       INTER|             S|           0|           0|           0|                      0|             111.0|              0|     589298|          QE11|        0000|         0210A|          Queens|                                F|        null|W/B HORACE HARDING E|                  0|        408|          K6|               BBBBBBB|                 ALL|               ALL|          RED|           0|             0|               null|2011-06-30 02:10:00| NGHT PKG ON RESID...|         65|\n",
            "|            20|    1474097790| HRZ2189|                NY|       PAS|06/26/2012|              SDN|       CHEVR|             P|       35710|       15710|       11710|               20210724|              24.0|             24|     963854|          0024|        0000|         0639A|       Manhattan|                                O|         127|        WEST 97TH ST|                  0|        408|           D|               BBBBYBB|               0600A|             1500P|          RED|        2018|             0|               null|2012-06-26 06:39:00| NO PARKING-DAY/TI...|         65|\n",
            "+--------------+--------------+--------+------------------+----------+----------+-----------------+------------+--------------+------------+------------+------------+-----------------------+------------------+---------------+-----------+--------------+------------+--------------+----------------+---------------------------------+------------+--------------------+-------------------+-----------+------------+----------------------+--------------------+------------------+-------------+------------+--------------+-------------------+-------------------+---------------------+-----------+\n",
            "only showing top 20 rows\n",
            "\n"
          ]
        },
        {
          "output_type": "execute_result",
          "data": {
            "text/plain": [
              "['Violation_Code',\n",
              " 'Summons_Number',\n",
              " 'Plate_ID',\n",
              " 'Registration_State',\n",
              " 'Plate_Type',\n",
              " 'Issue_Date',\n",
              " 'Vehicle_Body_Type',\n",
              " 'Vehicle_Make',\n",
              " 'Issuing_Agency',\n",
              " 'Street_Code1',\n",
              " 'Street_Code2',\n",
              " 'Street_Code3',\n",
              " 'Vehicle_Expiration_Date',\n",
              " 'Violation_Location',\n",
              " 'Issuer_Precinct',\n",
              " 'Issuer_Code',\n",
              " 'Issuer_Command',\n",
              " 'Issuer_Squad',\n",
              " 'Violation_Time',\n",
              " 'Violation_County',\n",
              " 'Violation_In_Front_Of_Or_Opposite',\n",
              " 'House_Number',\n",
              " 'Street_Name',\n",
              " 'Date_First_Observed',\n",
              " 'Law_Section',\n",
              " 'Sub_Division',\n",
              " 'Days_Parking_In_Effect',\n",
              " 'From_Hours_In_Effect',\n",
              " 'To_Hours_In_Effect',\n",
              " 'Vehicle_Color',\n",
              " 'Vehicle_Year',\n",
              " 'Feet_From_Curb',\n",
              " 'Violation_Post_Code',\n",
              " 'Issue_Date_Time',\n",
              " 'Violation_Description',\n",
              " 'Fine_Amount']"
            ]
          },
          "metadata": {},
          "execution_count": 29
        }
      ],
      "source": [
        "# filename = \"/content/drive/MyDrive/nyc_data/2021_chunk0.csv\"\n",
        "filename = \"/content/drive/MyDrive/nyc_data/NYC_2021_clean_data.csv\"\n",
        "df = spark.read.option(\"header\",True).option(\"inferSchema\",True).csv(filename)\n",
        "df.show()\n",
        "df.columns"
      ]
    },
    {
      "cell_type": "markdown",
      "metadata": {
        "id": "MXx9OLuAZFU6"
      },
      "source": [
        "# User Defined Functions and few cleaning operations particular to performing the ML."
      ]
    },
    {
      "cell_type": "code",
      "execution_count": 30,
      "metadata": {
        "id": "KxQ-gc7bjBy6"
      },
      "outputs": [],
      "source": [
        "#Data preprocessing pipeline\n",
        "columns_to_drop = ['Plate ID','Issuer Code',\n",
        "                   'House Number','Street Name',\n",
        "                   'Date First Observed',\n",
        "                   'Law Section','Sub Division',\n",
        "                   'Days Parking In Effect',\n",
        "                   'From Hours In Effect','To Hours In Effect',\n",
        "                   'Vehicle Color',\n",
        "                   'Vehicle Year',\n",
        "                   'Feet From Curb','Violation Post Code','Violation Description',\n",
        "                   'Issuer Squad']\n",
        "df = df.drop(*columns_to_drop)\n",
        "\n",
        "#UDFS\n",
        "\n",
        "#Extracting information from date\n",
        "def day_finder(x):\n",
        "    return datetime.datetime.strptime(x, '%Y-%m-%d').weekday()\n",
        "\n",
        "#Bucketizing violation time\n",
        "def time_bucket(x):\n",
        "  #Bucketizing the time into 8 buckets\n",
        "  if x is None:\n",
        "    return 3\n",
        "  # if x[-1]!='P' and x[-1]!='A':\n",
        "  #   return 3\n",
        "  try:\n",
        "    hour = int(x[:2])\n",
        "    min = int(x[3:5])\n",
        "  except:\n",
        "    return 3\n",
        "  # if x[-1]=='P':\n",
        "  #   time = 1200+time\n",
        "  time = hour*3600+min\n",
        "  for i in range(8):\n",
        "    if time>=3600*i and time<3600*(i+1):\n",
        "      return i\n",
        "\n",
        "time_udf = udf(lambda x: time_bucket(x), IntegerType())\n",
        "\n",
        "day_udf = udf(lambda x: day_finder(x), IntegerType())"
      ]
    },
    {
      "cell_type": "code",
      "execution_count": 31,
      "metadata": {
        "colab": {
          "base_uri": "https://localhost:8080/"
        },
        "id": "y48VlkBDkZLW",
        "outputId": "ce969483-505a-4c2f-b3b4-4a06291f77be"
      },
      "outputs": [
        {
          "output_type": "execute_result",
          "data": {
            "text/plain": [
              "DataFrame[Violation_Code: int, Summons_Number: bigint, Plate_ID: string, Registration_State: string, Plate_Type: string, Issue_Date: string, Vehicle_Body_Type: string, Vehicle_Make: string, Issuing_Agency: string, Street_Code1: int, Street_Code2: int, Street_Code3: int, Vehicle_Expiration_Date: int, Violation_Location: double, Issuer_Precinct: int, Issuer_Code: int, Issuer_Command: string, Issuer_Squad: string, Violation_Time: string, Violation_County: string, Violation_In_Front_Of_Or_Opposite: string, House_Number: string, Street_Name: string, Date_First_Observed: int, Law_Section: int, Sub_Division: string, Days_Parking_In_Effect: string, From_Hours_In_Effect: string, To_Hours_In_Effect: string, Vehicle_Color: string, Vehicle_Year: int, Feet_From_Curb: int, Violation_Post_Code: string, Violation_Description: string, Fine_Amount: int, Month: double, Day: double, Time: double]"
            ]
          },
          "metadata": {},
          "execution_count": 31
        }
      ],
      "source": [
        "############# PREPROCESSING ###########################\n",
        "\n",
        "#Splitting the issue date into month,year,day\n",
        "df_new = df.withColumn('Month',split('Issue_Date_Time','-')[1]) \\\n",
        "           .withColumn('Year',split('Issue_Date_Time','-')[0]) \\\n",
        "           .withColumn('Day',day_udf(split('Issue_Date_Time',' ')[0])) \\\n",
        "           .withColumn('Time',time_udf(split('Issue_Date_Time',' ')[1]))\n",
        "\n",
        "#converting the columns into integers\n",
        "df_new = df_new.withColumn(\"Year\",df_new[\"Year\"].cast(IntegerType())) \\\n",
        "               .withColumn(\"Month\",df_new[\"Month\"].cast(DoubleType())) \\\n",
        "               .withColumn(\"Day\",df_new[\"Day\"].cast(DoubleType())) \\\n",
        "               .withColumn(\"Time\",df_new[\"Time\"].cast(DoubleType()))\n",
        "\n",
        "#Removing outliers and some filtering\n",
        "df_new = df_new.where(f.col(\"Year\") > 2019)\n",
        "\n",
        "#Dropping columns\n",
        "df_new =df_new.drop(*['Issue_Date_Time','Year'])\n",
        "\n",
        "#Filling na\n",
        "df_new = df_new.fillna({'Time':3})\n",
        "\n",
        "#Removing na locaions of violation location and violation count\n",
        "df_new = df_new.dropna(how='any',subset=['Violation_Location','Violation_County'])\n",
        "\n",
        "df_new=df_new.dropna(how='any')\n",
        "\n",
        "df_new.persist()"
      ]
    },
    {
      "cell_type": "code",
      "execution_count": null,
      "metadata": {
        "id": "rJbpA-qUk8Np"
      },
      "outputs": [],
      "source": [
        "df_new.show()"
      ]
    },
    {
      "cell_type": "markdown",
      "metadata": {
        "id": "tG0RS8qQyEfa"
      },
      "source": [
        "# Predicting the Violation County"
      ]
    },
    {
      "cell_type": "markdown",
      "metadata": {
        "id": "nHHTp2UBuWxA"
      },
      "source": [
        "**Pipeline Execution**"
      ]
    },
    {
      "cell_type": "code",
      "execution_count": null,
      "metadata": {
        "id": "dNIWTQdcuZcH"
      },
      "outputs": [],
      "source": [
        "#Label encoding pipeline\n",
        "#Split the data\n",
        "\n",
        "train, test = df_new.randomSplit([0.80,0.20])\n",
        "\n",
        "indexers = [StringIndexer(inputCol=column, outputCol=column+\"_index\",handleInvalid='keep').fit(df_new) for column in list(set(df_new.columns)-set(['Month','Day','Time','Summons_Number','Violation_County','Violation_Location']))]\n",
        "target_indexer = StringIndexer(inputCol=\"Violation_County\", outputCol=\"label\", handleInvalid='keep').fit(df_new)\n",
        "\n",
        "assembler = VectorAssembler(inputCols=['Registration_State_index','Plate_Type_index',\n",
        "                                       'Violation_Code_index','Vehicle_Body_Type_index',\n",
        "                                       'Vehicle_Make_index','Issuing_Agency_index',\n",
        "                                       'Street_Code1_index','Street_Code2_index',\n",
        "                                       'Street_Code3_index','Issuer_Precinct_index',\n",
        "                                       'Issuer_Command_index','Violation_In_Front_Of_Or_Opposite_index',\n",
        "                                       'Month','Day','Time'],outputCol='features')\n",
        "\n",
        "labelConverter = IndexToString(inputCol=\"prediction\", outputCol=\"predictedLabel\", labels=target_indexer.labels)"
      ]
    },
    {
      "cell_type": "markdown",
      "metadata": {
        "id": "I-J611kwuurt"
      },
      "source": [
        "**Logistic Regression**"
      ]
    },
    {
      "cell_type": "code",
      "execution_count": null,
      "metadata": {
        "id": "T1RJ3MTXuxQP"
      },
      "outputs": [],
      "source": [
        "lr = LogisticRegression(maxIter=100, featuresCol='features', labelCol='label')\n",
        "# Chain indexers and forest in a Pipeline\n",
        "pipeline = Pipeline(stages=indexers+[target_indexer,assembler,lr, labelConverter])\n",
        "\n",
        "model = pipeline.fit(train)\n",
        "#Transforming train data\n",
        "predictions = model.transform(test)\n",
        "predictions.select(\"predictedLabel\", \"Violation_County\", \"features\").show(5)\n",
        "\n",
        "# Select (prediction, true label) and compute test error\n",
        "evaluator = MulticlassClassificationEvaluator(\n",
        "    labelCol=\"label\", predictionCol=\"prediction\", metricName=\"accuracy\")\n",
        "accuracy = evaluator.evaluate(predictions)\n",
        "print(\"Test Error = %g\" % (1.0 - accuracy))\n",
        "print(\"Test Accuracy = %g\" % (accuracy))"
      ]
    },
    {
      "cell_type": "markdown",
      "metadata": {
        "id": "zWofD6IAtq_q"
      },
      "source": [
        "\n",
        "**Random Forest Classifier**"
      ]
    },
    {
      "cell_type": "code",
      "execution_count": null,
      "metadata": {
        "id": "RIy-yLHNtj1N"
      },
      "outputs": [],
      "source": [
        "rf = RandomForestClassifier(numTrees=10,maxBins=4000,labelCol=\"label\", featuresCol=\"features\")\n",
        "pipeline = Pipeline(stages=indexers+[target_indexer,assembler,rf, labelConverter])\n",
        "\n",
        "model = pipeline.fit(train)\n",
        "#Transforming train data\n",
        "predictions = model.transform(test)\n",
        "predictions.select(\"predictedLabel\", \"Violation_County\", \"features\").show(5)\n",
        "\n",
        "# Select (prediction, true label) and compute test error\n",
        "evaluator = MulticlassClassificationEvaluator(\n",
        "    labelCol=\"label\", predictionCol=\"prediction\", metricName=\"accuracy\")\n",
        "accuracy = evaluator.evaluate(predictions)\n",
        "print(\"Test Error = %g\" % (1.0 - accuracy))\n",
        "print(\"Test Accuracy = %g\" % (accuracy))\n"
      ]
    },
    {
      "cell_type": "markdown",
      "metadata": {
        "id": "jfOZazufwWWi"
      },
      "source": [
        "**Decision Tree Classifier**"
      ]
    },
    {
      "cell_type": "code",
      "execution_count": null,
      "metadata": {
        "id": "zQDi80luwW9d"
      },
      "outputs": [],
      "source": [
        "dt = DecisionTreeClassifier(labelCol=\"label\", featuresCol=\"features\", maxDepth = 10, maxBins=4000)\n",
        "# Chain indexers and forest in a Pipeline\n",
        "pipeline = Pipeline(stages=indexers+[target_indexer,assembler,dt, labelConverter])\n",
        "\n",
        "model = pipeline.fit(train)\n",
        "#Transforming train data\n",
        "predictions = model.transform(test)\n",
        "predictions.select(\"predictedLabel\", \"Violation_County\", \"features\").show(5)\n",
        "\n",
        "# Select (prediction, true label) and compute test error\n",
        "evaluator = MulticlassClassificationEvaluator(\n",
        "    labelCol=\"label\", predictionCol=\"prediction\", metricName=\"accuracy\")\n",
        "accuracy = evaluator.evaluate(predictions)\n",
        "print(\"Test Error = %g\" % (1.0 - accuracy))\n",
        "print(\"Test Accuracy = %g\" % (accuracy))"
      ]
    },
    {
      "cell_type": "markdown",
      "metadata": {
        "id": "uZZMVYxXpUEN"
      },
      "source": [
        "**Uisng the violation county prediction as input for predicting the violation location**"
      ]
    },
    {
      "cell_type": "markdown",
      "metadata": {
        "id": "ue4LASNnlZ1p"
      },
      "source": [
        "#**Violation location prediction**\n",
        "\n",
        "Using the violation county prediction as input for predicting the violation location"
      ]
    },
    {
      "cell_type": "code",
      "execution_count": 33,
      "metadata": {
        "id": "T20BSKnFpIKK"
      },
      "outputs": [],
      "source": [
        "#Label encoding pipeline\n",
        "#Split the data\n",
        "\n",
        "train, test = df_new.randomSplit([0.80,0.20])\n",
        "\n",
        "indexersL = [StringIndexer(inputCol=column, outputCol=column+\"_index\",handleInvalid='keep').fit(df_new) for column in list(set(df_new.columns)-set(['Month','Day','Time','Violation_Location','Summons_Number']))]\n",
        "target_indexerL = StringIndexer(inputCol=\"Violation_Location\", outputCol=\"label\", handleInvalid='keep').fit(df_new)\n",
        "assemblerL = VectorAssembler(inputCols=['Registration_State_index','Plate_Type_index',\n",
        "                                       'Violation_Code_index','Vehicle_Body_Type_index',\n",
        "                                       'Vehicle_Make_index','Issuing_Agency_index',\n",
        "                                       'Street_Code1_index','Street_Code2_index',\n",
        "                                       'Street_Code3_index','Issuer_Precinct_index',\n",
        "                                       'Issuer_Command_index','Violation_In_Front_Of_Or_Opposite_index',\n",
        "                                       'Violation_County_index','Month','Day','Time'],outputCol='features')\n",
        "\n",
        "# Convert indexed labels back to original labels.\n",
        "labelConverterL = IndexToString(inputCol=\"prediction\", outputCol=\"predictedLabel\", labels=target_indexerL.labels)"
      ]
    },
    {
      "cell_type": "markdown",
      "metadata": {
        "id": "oEysqKqdDsCP"
      },
      "source": [
        "**Logistic Regression**"
      ]
    },
    {
      "cell_type": "code",
      "execution_count": 34,
      "metadata": {
        "colab": {
          "base_uri": "https://localhost:8080/"
        },
        "id": "m2ItBAB1DrkF",
        "outputId": "b45e0e22-20f6-4ad4-8d41-926c2a792b0e"
      },
      "outputs": [
        {
          "output_type": "stream",
          "name": "stdout",
          "text": [
            "+--------------+------------------+--------------------+\n",
            "|predictedLabel|Violation_Location|            features|\n",
            "+--------------+------------------+--------------------+\n",
            "|          13.0|               1.0|[1.0,0.0,13.0,3.0...|\n",
            "|          13.0|               1.0|[2.0,0.0,13.0,0.0...|\n",
            "|          13.0|               1.0|[0.0,0.0,13.0,0.0...|\n",
            "|           7.0|               7.0|[0.0,0.0,13.0,0.0...|\n",
            "|          17.0|               1.0|[0.0,0.0,13.0,0.0...|\n",
            "+--------------+------------------+--------------------+\n",
            "only showing top 5 rows\n",
            "\n",
            "Test Error = 0.35283\n",
            "Test Accuracy = 0.64717\n"
          ]
        }
      ],
      "source": [
        "lr = LogisticRegression(maxIter=100, featuresCol='features', labelCol='label')\n",
        "# Chain indexers and forest in a Pipeline\n",
        "pipeline = Pipeline(stages=indexersL+[target_indexerL,assemblerL,lr, labelConverterL])\n",
        "\n",
        "model = pipeline.fit(train)\n",
        "#Transforming train data\n",
        "predictions = model.transform(test)\n",
        "predictions.select(\"predictedLabel\", \"Violation_Location\", \"features\").show(5)\n",
        "\n",
        "# Select (prediction, true label) and compute test error\n",
        "evaluator = MulticlassClassificationEvaluator(\n",
        "    labelCol=\"label\", predictionCol=\"prediction\", metricName=\"accuracy\")\n",
        "accuracy = evaluator.evaluate(predictions)\n",
        "print(\"Test Error = %g\" % (1.0 - accuracy))\n",
        "print(\"Test Accuracy = %g\" % (accuracy))"
      ]
    },
    {
      "cell_type": "markdown",
      "metadata": {
        "id": "_-K42b6KHHD7"
      },
      "source": [
        "**Decision Tree**"
      ]
    },
    {
      "cell_type": "code",
      "execution_count": 40,
      "metadata": {
        "colab": {
          "base_uri": "https://localhost:8080/"
        },
        "id": "hKho_wWZHGmn",
        "outputId": "a1870a87-57ce-4b8b-937c-3ee56e5934ed"
      },
      "outputs": [
        {
          "output_type": "stream",
          "name": "stdout",
          "text": [
            "+--------------+------------------+--------------------+\n",
            "|predictedLabel|Violation_Location|            features|\n",
            "+--------------+------------------+--------------------+\n",
            "|           1.0|               1.0|[1.0,0.0,13.0,3.0...|\n",
            "|           1.0|               1.0|[2.0,0.0,13.0,0.0...|\n",
            "|           1.0|               1.0|[0.0,0.0,13.0,0.0...|\n",
            "|           5.0|               7.0|[0.0,0.0,13.0,0.0...|\n",
            "|           1.0|               1.0|[0.0,0.0,13.0,0.0...|\n",
            "+--------------+------------------+--------------------+\n",
            "only showing top 5 rows\n",
            "\n",
            "Test Error = 0.298807\n",
            "Test Accuracy = 0.701193\n"
          ]
        }
      ],
      "source": [
        "dt = DecisionTreeClassifier(labelCol=\"label\", featuresCol=\"features\", maxDepth = 30, maxBins=4000)\n",
        "# Chain indexers and forest in a Pipeline\n",
        "pipeline = Pipeline(stages=indexersL+[target_indexerL,assemblerL,dt, labelConverterL])\n",
        "\n",
        "model = pipeline.fit(train)\n",
        "#Transforming train data\n",
        "predictions = model.transform(test)\n",
        "predictions.select(\"predictedLabel\", \"Violation_Location\", \"features\").show(5)\n",
        "\n",
        "# Select (prediction, true label) and compute test error\n",
        "evaluator = MulticlassClassificationEvaluator(\n",
        "    labelCol=\"label\", predictionCol=\"prediction\", metricName=\"accuracy\")\n",
        "accuracy = evaluator.evaluate(predictions)\n",
        "print(\"Test Error = %g\" % (1.0 - accuracy))\n",
        "print(\"Test Accuracy = %g\" % (accuracy))"
      ]
    },
    {
      "cell_type": "markdown",
      "metadata": {
        "id": "kgTvLiI8Dmx9"
      },
      "source": [
        "**Random Forest CLassifier**"
      ]
    },
    {
      "cell_type": "code",
      "execution_count": 38,
      "metadata": {
        "colab": {
          "base_uri": "https://localhost:8080/"
        },
        "id": "fBVjWia5lITN",
        "outputId": "aa6c718c-2b97-4c08-ebf5-834ddb5eb86f"
      },
      "outputs": [
        {
          "output_type": "stream",
          "name": "stdout",
          "text": [
            "+--------------+------------------+--------------------+\n",
            "|predictedLabel|Violation_Location|            features|\n",
            "+--------------+------------------+--------------------+\n",
            "|     Manhattan|               1.0|[1.0,0.0,13.0,3.0...|\n",
            "|     Manhattan|               1.0|[2.0,0.0,13.0,0.0...|\n",
            "|     Manhattan|               1.0|[0.0,0.0,13.0,0.0...|\n",
            "|     Manhattan|               7.0|[0.0,0.0,13.0,0.0...|\n",
            "|     Manhattan|               1.0|[0.0,0.0,13.0,0.0...|\n",
            "+--------------+------------------+--------------------+\n",
            "only showing top 5 rows\n",
            "\n",
            "Test Error = 0.04029\n",
            "Test Error = 0.95971\n"
          ]
        }
      ],
      "source": [
        "rf = RandomForestClassifier(numTrees=10,maxBins=6000,labelCol=\"label\", featuresCol=\"features\")\n",
        "pipeline = Pipeline(stages=indexers+[target_indexer,assembler,rf,labelConverter])\n",
        "\n",
        "model = pipeline.fit(train)\n",
        "#Transforming train data\n",
        "predictions = model.transform(test)\n",
        "\n",
        "# A = {c.name: c.metadata[\"ml_attr\"][\"vals\"] for c in df_r1.schema.fields if c.name.endswith(\"label\")}\n",
        "# print(\"String Indexed labels:{}\".format(A))\n",
        "\n",
        "# Select example rows to display.\n",
        "predictions.select(\"predictedLabel\", \"Violation_Location\", \"features\").show(5)\n",
        "\n",
        "# Select (prediction, true label) and compute test error\n",
        "evaluator = MulticlassClassificationEvaluator(\n",
        "    labelCol=\"label\", predictionCol=\"prediction\", metricName=\"accuracy\")\n",
        "accuracy = evaluator.evaluate(predictions)\n",
        "print(\"Test Error = %g\" % (1.0 - accuracy))\n",
        "print(\"Test Error = %g\" % (accuracy))"
      ]
    },
    {
      "cell_type": "code",
      "source": [],
      "metadata": {
        "id": "DIEaiSB0SS3a"
      },
      "execution_count": null,
      "outputs": []
    }
  ],
  "metadata": {
    "colab": {
      "provenance": []
    },
    "kernelspec": {
      "display_name": "Python 3",
      "name": "python3"
    },
    "language_info": {
      "name": "python"
    }
  },
  "nbformat": 4,
  "nbformat_minor": 0
}